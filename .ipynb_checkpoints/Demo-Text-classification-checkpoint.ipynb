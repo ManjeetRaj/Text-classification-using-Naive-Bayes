{
 "cells": [
  {
   "cell_type": "code",
   "execution_count": 1,
   "metadata": {},
   "outputs": [],
   "source": [
    "from IPython.core.interactiveshell import InteractiveShell\n",
    "InteractiveShell.ast_node_interactivity = \"all\"\n",
    "%matplotlib inline"
   ]
  },
  {
   "cell_type": "markdown",
   "metadata": {},
   "source": [
    "# Section 1\n",
    "# Word Count - CountVectorizer "
   ]
  },
  {
   "cell_type": "markdown",
   "metadata": {},
   "source": [
    "Lets gets back to our Naive Bayes Classifier what we basically doing is that we will actually count the number of times a particular word is coming in that partcular category.\n",
    "\n",
    "Then we find the probability and then we classify using Naive Bayes.\n",
    "\n",
    "But how you will make a machine to actually count the number of words.\n",
    "\n",
    "So what it basically it does is (for example  let's assume you have a big sentence) that it will give a particular unique number to each of unique words then after that it will count that how many times that a particular is coming it is not going to actually check that text but instead it will give a number to that particular text then it will count how that number is repeating.\n",
    "\n",
    "So, that giving a unique value to each and every word that is done by fit() method. It is under count-vectorizer class. \n",
    "\n",
    "And then counting the number of times that particular number is comming is done by transform method\n",
    "\n",
    "                (you can see my .pdf for more info...)"
   ]
  },
  {
   "cell_type": "code",
   "execution_count": 6,
   "metadata": {},
   "outputs": [
    {
     "data": {
      "text/plain": [
       "CountVectorizer(analyzer='word', binary=False, decode_error='strict',\n",
       "        dtype=<class 'numpy.int64'>, encoding='utf-8', input='content',\n",
       "        lowercase=True, max_df=1.0, max_features=None, min_df=1,\n",
       "        ngram_range=(1, 1), preprocessor=None, stop_words=None,\n",
       "        strip_accents=None, token_pattern='(?u)\\\\b\\\\w\\\\w+\\\\b',\n",
       "        tokenizer=None, vocabulary=None)"
      ]
     },
     "execution_count": 6,
     "metadata": {},
     "output_type": "execute_result"
    },
    {
     "name": "stdout",
     "output_type": "stream",
     "text": [
      "print Vocabulary : {'am': 0, 'manjeet': 9, 'raj': 13, 'lakshman': 8, 'my': 10, 'college': 3, 'name': 11, 'is': 7, 'army': 1, 'institute': 6, 'of': 12, 'technology': 14, 'demo': 5, 'code': 2, 'to': 15, 'understand': 16, 'countvectorizer': 4}\n"
     ]
    },
    {
     "data": {
      "text/plain": [
       "['am',\n",
       " 'army',\n",
       " 'code',\n",
       " 'college',\n",
       " 'countvectorizer',\n",
       " 'demo',\n",
       " 'institute',\n",
       " 'is',\n",
       " 'lakshman',\n",
       " 'manjeet',\n",
       " 'my',\n",
       " 'name',\n",
       " 'of',\n",
       " 'raj',\n",
       " 'technology',\n",
       " 'to',\n",
       " 'understand']"
      ]
     },
     "execution_count": 6,
     "metadata": {},
     "output_type": "execute_result"
    },
    {
     "name": "stdout",
     "output_type": "stream",
     "text": [
      "feature name : ['am', 'army', 'code', 'college', 'countvectorizer', 'demo', 'institute', 'is', 'lakshman', 'manjeet', 'my', 'name', 'of', 'raj', 'technology', 'to', 'understand']\n",
      "The shape of count  : (5, 17)\n",
      "Printing counts : [[1 0 0 0 0 0 0 0 1 1 0 0 0 1 0 0 0]\n",
      " [0 1 0 1 0 0 1 1 0 0 1 1 1 0 1 0 0]\n",
      " [0 0 1 0 1 1 0 0 0 0 0 0 0 0 0 1 1]\n",
      " [0 1 0 1 0 0 1 1 0 0 1 1 1 0 1 0 0]\n",
      " [0 0 1 0 1 1 0 0 0 0 0 0 0 0 0 1 1]]\n"
     ]
    }
   ],
   "source": [
    "# Demo code to understand CountVectorizer\n",
    "\n",
    "from sklearn.feature_extraction.text import CountVectorizer\n",
    "text = [\"I am manjeet raj lakshman\",\n",
    "       \"My college name is Army Institute of Technology\",\n",
    "       \"Demo code to understand CountVectorizer\",\n",
    "       \"My college name is Army Institute of Technology My college name is Army Institute of Technology\",\n",
    "       \"Demo code to understand CountVectorizer\"]\n",
    "\n",
    "vector = CountVectorizer()\n",
    "vector.fit(text) # Learn a vocabulary dictionary of all\n",
    "                 # tokens in the row documents.\n",
    "    \n",
    "print(\"print Vocabulary : \" +str(vector.vocabulary_))\n",
    "\n",
    "vector.get_feature_names()\n",
    "print(\"feature name : \" +str(vector.get_feature_names()))\n",
    "\n",
    "counts = vector.transform(text)\n",
    "print(\"The shape of count  : \" +str(counts.shape))\n",
    "print(\"Printing counts : \"+str(counts.toarray()))"
   ]
  },
  {
   "cell_type": "code",
   "execution_count": null,
   "metadata": {},
   "outputs": [],
   "source": []
  }
 ],
 "metadata": {
  "kernelspec": {
   "display_name": "Python 3",
   "language": "python",
   "name": "python3"
  },
  "language_info": {
   "codemirror_mode": {
    "name": "ipython",
    "version": 3
   },
   "file_extension": ".py",
   "mimetype": "text/x-python",
   "name": "python",
   "nbconvert_exporter": "python",
   "pygments_lexer": "ipython3",
   "version": "3.6.6"
  }
 },
 "nbformat": 4,
 "nbformat_minor": 2
}
